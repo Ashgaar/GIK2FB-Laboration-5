{
 "cells": [
  {
   "cell_type": "code",
   "execution_count": 1,
   "metadata": {},
   "outputs": [],
   "source": [
    "import pandas\n",
    "import matplotlib.pyplot as plt\n",
    "import numpy as np\n",
    "from random import shuffle\n",
    "import random\n",
    "from random import randrange"
   ]
  },
  {
   "cell_type": "code",
   "execution_count": 2,
   "metadata": {},
   "outputs": [],
   "source": [
    "imshow = plt.imshow"
   ]
  },
  {
   "cell_type": "markdown",
   "metadata": {},
   "source": [
    "Creating a maze and making a numpy array out of it."
   ]
  },
  {
   "cell_type": "code",
   "execution_count": 3,
   "metadata": {},
   "outputs": [
    {
     "data": {
      "text/plain": [
       "<matplotlib.image.AxesImage at 0x13e366a5e40>"
      ]
     },
     "execution_count": 3,
     "metadata": {},
     "output_type": "execute_result"
    },
    {
     "data": {
      "image/png": "[encoded data removed]",
      "text/plain": [
       "<Figure size 432x288 with 1 Axes>"
      ]
     },
     "metadata": {
      "needs_background": "light"
     },
     "output_type": "display_data"
    }
   ],
   "source": [
    "def make_maze(w = 16, h = 8):\n",
    "    vis = [[0] * w + [1] for _ in range(h)] + [[1] * (w + 1)]\n",
    "    ver = [[\"10\"] * w + ['1'] for _ in range(h)] + [[]]\n",
    "    hor = [[\"11\"] * w + ['1'] for _ in range(h + 1)]\n",
    " \n",
    "    def walk(x, y):\n",
    "        vis[y][x] = 1\n",
    " \n",
    "        d = [(x - 1, y), (x, y + 1), (x + 1, y), (x, y - 1)]\n",
    "        shuffle(d)\n",
    "        for (xx, yy) in d:\n",
    "            if vis[yy][xx]: continue\n",
    "            if xx == x: hor[max(y, yy)][x] = \"10\"\n",
    "            if yy == y: ver[y][max(x, xx)] = \"00\"\n",
    "            walk(xx, yy)\n",
    " \n",
    "    walk(np.random.randint(w), np.random.randint(h))\n",
    " \n",
    "    s = \"\"\n",
    "    for (a, b) in zip(hor, ver):\n",
    "        s += ''.join(a + ['\\n'] + b + ['\\n'])\n",
    "        \n",
    "    M=[]\n",
    "    for line in s.split(\"\\n\"):\n",
    "        if line!=\"\":\n",
    "            R=[]\n",
    "            for e in line:\n",
    "                R.append(int(e))\n",
    "            M.append(R)\n",
    "    return M\n",
    " \n",
    "maze=np.array(make_maze(8,8))\n",
    "# print(maze)\n",
    "imshow(maze)"
   ]
  },
  {
   "cell_type": "markdown",
   "metadata": {},
   "source": [
    "Creating a random solution which will be used later in the Genetic Algorithm."
   ]
  },
  {
   "cell_type": "code",
   "execution_count": 4,
   "metadata": {},
   "outputs": [],
   "source": [
    "def createRandomSolution(length):\n",
    "    solution = np.random.choice(range(4),length)\n",
    "    return solution"
   ]
  },
  {
   "cell_type": "markdown",
   "metadata": {},
   "source": [
    "Creates a function to evaluate the solution from \"createRandomSolution\".\n",
    "currentLocation starts of by being the start location and then gets changed throughout. targetLocation is the location the AI should reach.\n",
    "\n",
    "Here the AI is trying to find the path from the starting location [1,1] to the targetLocation."
   ]
  },
  {
   "cell_type": "code",
   "execution_count": 5,
   "metadata": {},
   "outputs": [],
   "source": [
    "def evaluateSolution(maze, solution, verbose):\n",
    "    currentLocation=[1,1]\n",
    "    targetLocation=[15,15]\n",
    "    #[down, right, up, left]\n",
    "    xm=[0,1,0,-1]\n",
    "    ym=[1,0,-1,0]\n",
    "    \n",
    "    n=0\n",
    "\n",
    "    X=[]\n",
    "    Y=[]\n",
    "    steps=np.zeros(maze.shape)\n",
    "    wallHits=np.zeros(maze.shape)\n",
    "    # tilesTaken = []\n",
    "    tilesTooken = []\n",
    "    tilesTooken.append(currentLocation)\n",
    "    for step in solution:\n",
    "        # print(step)\n",
    "        n+=1\n",
    "        x,y=currentLocation\n",
    "        x=x+xm[step]\n",
    "        y=y+ym[step]\n",
    "        xy = [x,y]\n",
    "        tilesTooken.append(xy)\n",
    "        steps[x][y]+=1\n",
    "        # print(f'step{x,y}')\n",
    "        if maze[x,y]==0:\n",
    "            currentLocation = [x,y]\n",
    "            X.append(x)\n",
    "            Y.append(y)\n",
    "            if x==targetLocation[0] and y==targetLocation[1]:\n",
    "                if verbose:\n",
    "                    imshow(maze)\n",
    "                    plt.plot(Y,X,'ow')\n",
    "                    plt.figure()\n",
    "                    plt.subplot(1,2,1)\n",
    "                    imshow(steps)\n",
    "                    plt.subplot(1,2,2)\n",
    "                    imshow(wallHits)\n",
    "                return n, solution\n",
    "        else:\n",
    "            wallHits[x][y] += 1\n",
    "\n",
    "    return 100000000, solution\n"
   ]
  },
  {
   "cell_type": "markdown",
   "metadata": {},
   "source": [
    "A function to create Mutants to use in the GA Algorithm, it stores new mutants in the mutant list."
   ]
  },
  {
   "cell_type": "code",
   "execution_count": 6,
   "metadata": {},
   "outputs": [],
   "source": [
    "def makeMutant(solution, my):\n",
    "    mutant = []\n",
    "    for c in list(solution):\n",
    "        if np.random.random()<my:\n",
    "            rnd = randrange(0,4)\n",
    "            mutant.append(rnd)\n",
    "        else:\n",
    "            mutant.append(c)\n",
    "    return mutant"
   ]
  },
  {
   "cell_type": "code",
   "execution_count": 7,
   "metadata": {},
   "outputs": [],
   "source": [
    "#Eaiser to read.\n",
    "from IPython.display import clear_output"
   ]
  },
  {
   "cell_type": "markdown",
   "metadata": {},
   "source": [
    "Function to implement the Genetic Algorithm.\n",
    "It will loop \"gen_input\" times, and then show the best result."
   ]
  },
  {
   "cell_type": "code",
   "execution_count": 8,
   "metadata": {},
   "outputs": [],
   "source": [
    "def GeneticAl(gen_input, my_input):\n",
    "    generation=0\n",
    "    solution = createRandomSolution(10000)\n",
    "    #While loop to loop until the solution finds the best performance.\n",
    "    gen  = gen_input\n",
    "    while generation != gen:\n",
    "        generation+=1\n",
    "        clear_output(wait=True)\n",
    "        print(f'Generation: {generation}')\n",
    "        #Evaluate the solution.\n",
    "        n1 , solution1= evaluateSolution(maze, solution, False)\n",
    "        mutant = makeMutant(solution, my = my_input)\n",
    "        n2 , solution2= evaluateSolution(maze, mutant, False)\n",
    "        if n1>n2:\n",
    "            solution = solution2\n",
    "            n = n2\n",
    "        if generation == gen:\n",
    "            print('Time out!')\n",
    "            print(f'Showing the best solution found:{n}')\n",
    "            evaluateSolution(maze, solution, True)"
   ]
  },
  {
   "cell_type": "markdown",
   "metadata": {},
   "source": [
    "Since it is purely random we will not always get perfect solutions to the problem, a way to fix this is by running many generations."
   ]
  },
  {
   "cell_type": "code",
   "execution_count": 9,
   "metadata": {},
   "outputs": [
    {
     "name": "stdout",
     "output_type": "stream",
     "text": [
      "Generation: 500\n",
      "Time out!\n",
      "Showing the best solution found:1899\n"
     ]
    },
    {
     "data": {
      "image/png": "[encoded data removed]",
      "text/plain": [
       "<Figure size 432x288 with 1 Axes>"
      ]
     },
     "metadata": {
      "needs_background": "light"
     },
     "output_type": "display_data"
    },
    {
     "data": {
      "image/png": "[encoded data removed]",
      "text/plain": [
       "<Figure size 432x288 with 2 Axes>"
      ]
     },
     "metadata": {
      "needs_background": "light"
     },
     "output_type": "display_data"
    }
   ],
   "source": [
    "GeneticAl(gen_input=500,my_input=0.001)"
   ]
  },
  {
   "cell_type": "code",
   "execution_count": 10,
   "metadata": {},
   "outputs": [
    {
     "name": "stdout",
     "output_type": "stream",
     "text": [
      "Generation: 1000\n",
      "Time out!\n"
     ]
    },
    {
     "ename": "UnboundLocalError",
     "evalue": "local variable 'n' referenced before assignment",
     "output_type": "error",
     "traceback": [
      "\u001b[1;31m---------------------------------------------------------------------------\u001b[0m",
      "\u001b[1;31mUnboundLocalError\u001b[0m                         Traceback (most recent call last)",
      "\u001b[1;32m~\\AppData\\Local\\Temp/ipykernel_5512/1390162095.py\u001b[0m in \u001b[0;36m<module>\u001b[1;34m\u001b[0m\n\u001b[1;32m----> 1\u001b[1;33m \u001b[0mGeneticAl\u001b[0m\u001b[1;33m(\u001b[0m\u001b[0mgen_input\u001b[0m\u001b[1;33m=\u001b[0m\u001b[1;36m1000\u001b[0m\u001b[1;33m,\u001b[0m\u001b[0mmy_input\u001b[0m\u001b[1;33m=\u001b[0m\u001b[1;36m0.001\u001b[0m\u001b[1;33m)\u001b[0m\u001b[1;33m\u001b[0m\u001b[1;33m\u001b[0m\u001b[0m\n\u001b[0m",
      "\u001b[1;32m~\\AppData\\Local\\Temp/ipykernel_5512/199075095.py\u001b[0m in \u001b[0;36mGeneticAl\u001b[1;34m(gen_input, my_input)\u001b[0m\n\u001b[0;32m     17\u001b[0m         \u001b[1;32mif\u001b[0m \u001b[0mgeneration\u001b[0m \u001b[1;33m==\u001b[0m \u001b[0mgen\u001b[0m\u001b[1;33m:\u001b[0m\u001b[1;33m\u001b[0m\u001b[1;33m\u001b[0m\u001b[0m\n\u001b[0;32m     18\u001b[0m             \u001b[0mprint\u001b[0m\u001b[1;33m(\u001b[0m\u001b[1;34m'Time out!'\u001b[0m\u001b[1;33m)\u001b[0m\u001b[1;33m\u001b[0m\u001b[1;33m\u001b[0m\u001b[0m\n\u001b[1;32m---> 19\u001b[1;33m             \u001b[0mprint\u001b[0m\u001b[1;33m(\u001b[0m\u001b[1;34mf'Showing the best solution found:{n}'\u001b[0m\u001b[1;33m)\u001b[0m\u001b[1;33m\u001b[0m\u001b[1;33m\u001b[0m\u001b[0m\n\u001b[0m\u001b[0;32m     20\u001b[0m             \u001b[0mevaluateSolution\u001b[0m\u001b[1;33m(\u001b[0m\u001b[0mmaze\u001b[0m\u001b[1;33m,\u001b[0m \u001b[0msolution\u001b[0m\u001b[1;33m,\u001b[0m \u001b[1;32mTrue\u001b[0m\u001b[1;33m)\u001b[0m\u001b[1;33m\u001b[0m\u001b[1;33m\u001b[0m\u001b[0m\n",
      "\u001b[1;31mUnboundLocalError\u001b[0m: local variable 'n' referenced before assignment"
     ]
    }
   ],
   "source": [
    "GeneticAl(gen_input=1000,my_input=0.001)"
   ]
  },
  {
   "cell_type": "code",
   "execution_count": null,
   "metadata": {},
   "outputs": [
    {
     "name": "stdout",
     "output_type": "stream",
     "text": [
      "Generation: 500\n",
      "Time out!\n",
      "Showing the best solution found:388\n"
     ]
    },
    {
     "data": {
      "image/png": "[encoded data removed]",
      "text/plain": [
       "<Figure size 432x288 with 1 Axes>"
      ]
     },
     "metadata": {
      "needs_background": "light"
     },
     "output_type": "display_data"
    },
    {
     "data": {
      "image/png": "[encoded data removed]",
      "text/plain": [
       "<Figure size 432x288 with 2 Axes>"
      ]
     },
     "metadata": {
      "needs_background": "light"
     },
     "output_type": "display_data"
    }
   ],
   "source": [
    "GeneticAl(gen_input=500,my_input=0.1)"
   ]
  },
  {
   "cell_type": "code",
   "execution_count": null,
   "metadata": {},
   "outputs": [
    {
     "name": "stdout",
     "output_type": "stream",
     "text": [
      "Generation: 5000\n",
      "Time out!\n",
      "Showing the best solution found:132\n"
     ]
    },
    {
     "data": {
      "image/png": "[encoded data removed]",
      "text/plain": [
       "<Figure size 432x288 with 1 Axes>"
      ]
     },
     "metadata": {
      "needs_background": "light"
     },
     "output_type": "display_data"
    },
    {
     "data": {
      "image/png": "[encoded data removed]",
      "text/plain": [
       "<Figure size 432x288 with 2 Axes>"
      ]
     },
     "metadata": {
      "needs_background": "light"
     },
     "output_type": "display_data"
    }
   ],
   "source": [
    "GeneticAl(gen_input=15000,my_input=0.1)"
   ]
  }
 ],
 "metadata": {
  "interpreter": {
   "hash": "75bfb7d03982c6e68443acacb14a652f9659befc8b584046a1280f1f4a11233d"
  },
  "kernelspec": {
   "display_name": "Python 3.10.1 64-bit",
   "language": "python",
   "name": "python3"
  },
  "language_info": {
   "codemirror_mode": {
    "name": "ipython",
    "version": 3
   },
   "file_extension": ".py",
   "mimetype": "text/x-python",
   "name": "python",
   "nbconvert_exporter": "python",
   "pygments_lexer": "ipython3",
   "version": "3.10.1"
  },
  "orig_nbformat": 4
 },
 "nbformat": 4,
 "nbformat_minor": 2
}
